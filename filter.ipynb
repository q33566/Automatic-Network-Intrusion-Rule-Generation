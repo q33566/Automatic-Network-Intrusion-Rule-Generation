{
 "cells": [
  {
   "attachments": {},
   "cell_type": "markdown",
   "metadata": {},
   "source": [
    "Read in the pickle file and find the top five occurance rate payloads in the file\n",
    "Return the payloads as 'text'"
   ]
  },
  {
   "cell_type": "code",
   "execution_count": 2,
   "metadata": {},
   "outputs": [
    {
     "name": "stdout",
     "output_type": "stream",
     "text": [
      "imap_report_with_tknscore_new.pkl\n",
      "                                                 payload  \\\n",
      "0                         61303031205354415254544c530d0a   \n",
      "4                     41303031204341504142494c4954590d0a   \n",
      "8      413030322049442028226e616d65222022446f7665636f...   \n",
      "481                           41303033204c4f474f55540d0a   \n",
      "13368  0300002f2ae00000000000436f6f6b69653a206d737473...   \n",
      "\n",
      "                                 text  percentage  \n",
      "0                   a001 STARTTLS\\r\\n         954  \n",
      "4                 A001 CAPABILITY\\r\\n        2007  \n",
      "8      A002 ID (\"name\" \"Dovecot\")\\r\\n        1859  \n",
      "481                   A003 LOGOUT\\r\\n        1474  \n",
      "13368                             NaN        2169  \n",
      "pop_report_with_tknscore_new.pkl\n",
      "                                  payload                    text  percentage\n",
      "5                          1503010002020a                     \u0015\u0003\u0001        6152\n",
      "8    474554202f20485454502f312e300d0a0d0a  GET / HTTP/1.0\\r\\n\\r\\n        4184\n",
      "27                           434150410d0a                CAPA\\r\\n        3853\n",
      "79                               0d0a0d0a                \\r\\n\\r\\n        3409\n",
      "268                  4155544820544c530d0a            AUTH TLS\\r\\n        5271\n",
      "sip_report_with_tknscore_new.pkl\n",
      "                                                 payload  \\\n",
      "0      4f5054494f4e53207369703a6361726f6c406368696361...   \n",
      "200    4f5054494f4e53207369703a6e6d205349502f322e300d...   \n",
      "576    4f5054494f4e53207369703a6e6d205349502f322e300d...   \n",
      "21658  5245474953544552207369703a3230332e3138372e3837...   \n",
      "87049  4f5054494f4e53207369703a38372e3134392e3235342e...   \n",
      "\n",
      "                                                    text  percentage  \n",
      "0      OPTIONS sip:carol@chicago.com SIP/2.0\\r\\nVia: ...        4885  \n",
      "200    OPTIONS sip:nm SIP/2.0\\r\\nVia: SIP/2.0/UDP nm;...        1979  \n",
      "576    OPTIONS sip:nm SIP/2.0\\r\\nVia: SIP/2.0/TCP nm;...        1409  \n",
      "21658  REGISTER sip:203.187.87.80 SIP/2.0\\r\\nVia: SIP...           6  \n",
      "87049  OPTIONS sip:87.149.254.74 SIP/2.0\\r\\nVia: SIP/...         157  \n",
      "smtp_report_with_tknscore_new.pkl\n",
      "                        payload            text  percentage\n",
      "0                  525345540d0a        RSET\\r\\n      361902\n",
      "1      41555448204c4f47494e0d0a  AUTH LOGIN\\r\\n      430736\n",
      "2        45484c4f20557365720d0a   EHLO User\\r\\n      380165\n",
      "5                  515549540d0a        QUIT\\r\\n      372247\n",
      "11218              444154410d0a        DATA\\r\\n       10532\n"
     ]
    }
   ],
   "source": [
    "import pandas as pd\n",
    "import pickle\n",
    "\n",
    "def load_data(file_path):\n",
    "    # Load the dataset from the pickle file\n",
    "    with open(file_path, 'rb') as file:\n",
    "        data = pickle.load(file)\n",
    "    return data\n",
    "\n",
    "def find_top_payloads(data):\n",
    "    # Find the five highest occurance rate payloads\n",
    "    payload_counts = data['payload'].value_counts().head(5)\n",
    "\n",
    "    # Disregard the duplicate payloads\n",
    "    top_payloads = data[data['payload'].isin(payload_counts.index)].drop_duplicates(subset=['payload'])\n",
    "\n",
    "    # Select only the 'payload' and 'text' columns \n",
    "    top_payloads = top_payloads[['payload', 'text']]\n",
    "\n",
    "    # Add percentage of the payload's occurance rate\n",
    "    top_payloads['count'] = top_payloads['payload'].map(payload_counts)\n",
    "\n",
    "    return top_payloads\n",
    "\n",
    "files = ['imap_report_with_tknscore_new.pkl', 'pop_report_with_tknscore_new.pkl', 'sip_report_with_tknscore_new.pkl', 'smtp_report_with_tknscore_new.pkl' ]\n",
    "for file_path in files:\n",
    "    print(file_path)\n",
    "    data = load_data(file_path)\n",
    "    top_payloads = find_top_payloads(data)\n",
    "    print(top_payloads)"
   ]
  }
 ],
 "metadata": {
  "kernelspec": {
   "display_name": "Python 3",
   "language": "python",
   "name": "python3"
  },
  "language_info": {
   "codemirror_mode": {
    "name": "ipython",
    "version": 3
   },
   "file_extension": ".py",
   "mimetype": "text/x-python",
   "name": "python",
   "nbconvert_exporter": "python",
   "pygments_lexer": "ipython3",
   "version": "3.12.2"
  },
  "orig_nbformat": 4,
  "vscode": {
   "interpreter": {
    "hash": "aee8b7b246df8f9039afb4144a1f6fd8d2ca17a180786b69acc140d282b71a49"
   }
  }
 },
 "nbformat": 4,
 "nbformat_minor": 2
}
