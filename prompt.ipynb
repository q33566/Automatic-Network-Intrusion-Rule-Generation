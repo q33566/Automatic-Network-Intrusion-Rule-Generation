{
 "cells": [
  {
   "cell_type": "code",
   "execution_count": 8,
   "metadata": {},
   "outputs": [],
   "source": [
    "import os\n",
    "from dotenv import load_dotenv\n",
    "from openai import OpenAI\n",
    "import pandas as pd\n",
    "import pickle\n",
    "import re\n",
    "import csv\n",
    "import random"
   ]
  },
  {
   "cell_type": "markdown",
   "metadata": {},
   "source": [
    "Read in the pickle file and find the top five occurance rate payloads in the file\n",
    "Return the payloads as 'text'讀取出text "
   ]
  },
  {
   "cell_type": "code",
   "execution_count": 3,
   "metadata": {},
   "outputs": [],
   "source": [
    "with open(\"pop_report_with_tknscore_new.pkl\", \"rb\") as f:\n",
    "    pop_df = pickle.load(f)\n",
    "\n",
    "with open(\"imap_report_with_tknscore_new.pkl\", \"rb\") as f:\n",
    "    imap_df = pickle.load(f)\n",
    "\n",
    "with open(\"smtp_report_with_tknscore_new.pkl\", \"rb\") as f:\n",
    "    smtp_df = pickle.load(f)\n",
    "\n",
    "with open(\"sip_report_with_tknscore_new.pkl\", \"rb\") as f:\n",
    "    sip_df = pickle.load(f)\n",
    "\n",
    "label_df = pd.read_csv(\"sid_table(packet).csv\")\n"
   ]
  },
  {
   "cell_type": "markdown",
   "metadata": {},
   "source": [
    "## 流程\n",
    "### 獲取目標資料\n",
    "- 獲取特定資料集的所有SID(unique)\n",
    "- 獲取各個SID所對應到的text\n",
    "- 過濾出sizt(text)>5的SID\n",
    "- 對這些SID用LLM自動生成regex(生成Regex流程)\n",
    "### 生成Regex\n",
    "- 對每一個SID給LLM幾個regex例子\n",
    "- 要求LLM生成三個不一樣但是可以過濾text的regex\n",
    "### 測試Regex\n",
    "- 拿答案給的regex和我們生成的regex測試能否的到相同結果(2/3過算對)"
   ]
  },
  {
   "cell_type": "code",
   "execution_count": 4,
   "metadata": {},
   "outputs": [
    {
     "name": "stdout",
     "output_type": "stream",
     "text": [
      "['1454621' '1335091' '1783777' '1648627' '1341424' '1213411' '1988637'\n",
      " '1407638' '1176066' '1161912' '1415573' '1291514' '3000002' '1872707'\n",
      " '1987844' '1680903' '1734662' '3000001' '1764655' '1848442' '1652949'\n",
      " '1215197' '1491662' '1419527' '1397090' '1414500' '1602037' '1972911'\n",
      " '1226089' '1547453' '1398061' '1604683' '1776829' '1016723' '1292430'\n",
      " '1018113' '1063876' '1396997' '1852737' '3000006']\n",
      "40\n"
     ]
    }
   ],
   "source": [
    "#獲取特定資料集的所有SID\n",
    "def get_unique_sids_list(df):\n",
    "    unique_sids = df[df['text'].notnull()]['sid'].unique()\n",
    "    return unique_sids\n",
    "sidList = get_unique_sids_list(pop_df)\n",
    "print(sidList)\n",
    "#print(len(sidList))"
   ]
  },
  {
   "cell_type": "code",
   "execution_count": 5,
   "metadata": {},
   "outputs": [],
   "source": [
    "#獲取各個SID所對應到的text\n",
    "def map_sid_to_unique_texts(df):\n",
    "    sid_to_texts = {}\n",
    "    for _, row in df.iterrows():\n",
    "        sid = row['sid']\n",
    "        text = row['text']\n",
    "        if pd.notnull(text):  # Ensure text is not NaN\n",
    "            if sid in sid_to_texts:\n",
    "                sid_to_texts[sid].add(text)\n",
    "            else:\n",
    "                sid_to_texts[sid] = {text}\n",
    "    return sid_to_texts\n",
    "sid_to_unique_texts = map_sid_to_unique_texts(pop_df)\n",
    "#print(sid_to_unique_texts)"
   ]
  },
  {
   "cell_type": "code",
   "execution_count": 6,
   "metadata": {},
   "outputs": [],
   "source": [
    "#過濾掉text長度小於5的sid\n",
    "def filter_sids_by_text_length(sit_to_text_dict):\n",
    "    filtered_sids = set()\n",
    "    for key, value in sit_to_text_dict.items():\n",
    "        if len(value) > 5:  # Convert to string to avoid errors with non-string types\n",
    "            filtered_sids.add(key)\n",
    "    return filtered_sids\n",
    "\n",
    "# Assuming pop_df is your DataFrame\n",
    "filtered_sids = filter_sids_by_text_length(sid_to_unique_texts)\n",
    "#print(filtered_sids)\n",
    "#print(len(filtered_sids))"
   ]
  },
  {
   "cell_type": "code",
   "execution_count": 9,
   "metadata": {},
   "outputs": [],
   "source": [
    "def get_pcre_by_sid(sid):\n",
    "    with open('sid_table(packet).csv', newline='') as csvfile:\n",
    "        reader = csv.DictReader(csvfile)\n",
    "        for row in reader:\n",
    "            if row['SID'] == str(sid):\n",
    "                # Remove leading and trailing slashes from the pcre value\n",
    "                return row['pcre'].strip('/')\n",
    "    return None\n",
    "\n",
    "# Iterate Throush Positive payload text to see if the ans regex is correct    \n",
    "def is_ans_correct(sid):\n",
    "    correct = 0\n",
    "    total = 0\n",
    "    errorList = []\n",
    "    ansPattern = get_pcre_by_sid(str(sid))\n",
    "    print(f\"ansPattern: {ansPattern}\")\n",
    "    sid_to_unique_texts = map_sid_to_unique_texts(pop_df)\n",
    "    texts = sid_to_unique_texts[sid]\n",
    "    for text in texts:\n",
    "        total = total + 1\n",
    "        correct = correct + bool(re.search(ansPattern, text))\n",
    "        if not match_patterns(text, threeAnsPattern, ansPattern):\n",
    "            errorList.append(text)\n",
    "\n",
    "    print(\"answer test\")\n",
    "    print(f\"correct: {correct}, total: {total}\")\n",
    "    print(f\"errorList: {errorList}\")\n",
    "    return correct, total\n",
    "#is_ans_correct('1783777')"
   ]
  },
  {
   "cell_type": "markdown",
   "metadata": {},
   "source": [
    "### ChatGPT API\n"
   ]
  },
  {
   "cell_type": "code",
   "execution_count": null,
   "metadata": {},
   "outputs": [],
   "source": [
    "load_dotenv()\n",
    "CHAT_GPT_API_KEY = os.getenv('C_API_KEY')\n",
    "client = OpenAI(\n",
    "    api_key=CHAT_GPT_API_KEY\n",
    ")\n",
    "\n",
    "completion = client.chat.completions.create(\n",
    "  model=\"gpt-3.5-turbo-1106\",\n",
    "  messages=[\n",
    "    {\"role\": \"system\", \"content\": \"You are a helpful assistant.\"},\n",
    "    {\"role\": \"user\", \"content\": \"Hello!\"}\n",
    "  ]\n",
    ")\n",
    "\n",
    "print(completion.choices[0].message)\n"
   ]
  },
  {
   "cell_type": "markdown",
   "metadata": {},
   "source": [
    "### Gemini API"
   ]
  },
  {
   "cell_type": "code",
   "execution_count": null,
   "metadata": {},
   "outputs": [],
   "source": [
    "load_dotenv()\n",
    "\n",
    "system_prompt = \"You are a cat. Your name is Neko.\"\n",
    "user_prompt = \"What is your name?\"\n",
    "GEMINI_API_KEY = os.getenv('GEMINI_API_KEY')\n",
    "\n",
    "genai.configure(api_key=GEMINI_API_KEY)\n",
    "\n",
    "model=genai.GenerativeModel(\n",
    "  model_name=\"gemini-1.5-flash\",\n",
    "  system_instruction=system_prompt)\n",
    "\n",
    "response = model.generate_content(user_prompt)\n",
    "print(response.text)"
   ]
  },
  {
   "cell_type": "markdown",
   "metadata": {},
   "source": [
    "### Evaluation Generated Regex\n",
    "Randonly take 20 positive and 20 negateve data as input to generated regex and answer regex, comparing there result."
   ]
  },
  {
   "cell_type": "code",
   "execution_count": 11,
   "metadata": {},
   "outputs": [
    {
     "name": "stdout",
     "output_type": "stream",
     "text": [
      "ansPattern: ^(GET|HEAD|POST|OPTIONS)( )(\\/|\\/version|\\/api.*|\\/jsproxy)( )(HTTP\\/1\\.(?:0|1))(\\r\\n)(.*)$\n",
      "positive test\n",
      "correct: 584, total: 684\n",
      "errorList: ['GET / HTTP/1.0\\r\\nHost: 61.67.24.45:110\\r\\nAccept: */*\\r\\n\\r\\n', 'GET / HTTP/1.1\\r\\nHost: 210.203.16.14:110\\r\\nUser-Agent: Mozilla/5.0 (Macintosh; Intel Mac OS X 10.11; rv:47.0) Gecko/20100101 Firefox/47.0\\r\\nAccept: */*\\r\\nConnection: keep-alive\\r\\n\\r\\n', 'GET / HTTP/1.0\\r\\nHost: 61.67.24.29:110\\r\\nAccept: */*\\r\\n\\r\\n', 'GET / HTTP/1.0\\r\\nHost: 222.156.247.14:110\\r\\nAccept: */*\\r\\n\\r\\n', 'GET / HTTP/1.0\\r\\nHost: 43.255.181.6:110\\r\\nAccept: */*\\r\\n\\r\\n', 'GET / HTTP/1.0\\r\\nHost: 203.187.87.60\\r\\n\\r\\n', 'GET / HTTP/1.0\\r\\nHost: 61.67.24.54:110\\r\\nAccept: */*\\r\\n\\r\\n', 'GET / HTTP/1.0\\r\\nHost: 61.67.24.9:110\\r\\nAccept: */*\\r\\n\\r\\n', 'GET / HTTP/1.0\\r\\nHost: 43.255.181.5:110\\r\\nAccept: */*\\r\\n\\r\\n', 'GET / HTTP/1.0\\r\\nHost: 210.242.148.2:110\\r\\nAccept: */*\\r\\n\\r\\n', 'GET / HTTP/1.1\\r\\nHost: 103.225.3.23:110\\r\\n\\r\\n', 'GET /version HTTP/1.1\\r\\n\\r\\n', 'GET / HTTP/1.1\\r\\nHost: 210.203.16.9:110\\r\\nUser-Agent: Mozilla/5.0 (Macintosh; Intel Mac OS X 10.11; rv:47.0) Gecko/20100101 Firefox/47.0\\r\\nAccept: */*\\r\\nConnection: keep-alive\\r\\n\\r\\n', 'GET / HTTP/1.0\\r\\nHost: 61.67.24.41:110\\r\\nAccept: */*\\r\\n\\r\\n', 'GET / HTTP/1.0\\r\\nHost: 103.224.193.39\\r\\n\\r\\n', 'GET / HTTP/1.0\\r\\nHost: 210.241.214.10:110\\r\\nAccept: */*\\r\\n\\r\\n', 'GET / HTTP/1.0\\r\\nHost: 222.156.247.40:110\\r\\nAccept: */*\\r\\n\\r\\n', 'GET / HTTP/1.0\\r\\nHost: 210.241.214.2:110\\r\\nAccept: */*\\r\\n\\r\\n', 'GET / HTTP/1.0\\r\\nHost: 61.67.24.38:110\\r\\nAccept: */*\\r\\n\\r\\n', 'GET / HTTP/1.0\\r\\nHost: 211.73.131.48\\r\\n\\r\\n', 'GET / HTTP/1.1\\r\\nHost: 203.105.231.62:110\\r\\n\\r\\n', 'GET / HTTP/1.0\\r\\nHost: 210.202.233.30\\r\\n\\r\\n', 'GET / HTTP/1.0\\r\\nHost: 61.67.24.31:110\\r\\nAccept: */*\\r\\n\\r\\n', 'GET / HTTP/1.0\\r\\nHost: 61.67.24.21:110\\r\\nAccept: */*\\r\\n\\r\\n', 'GET / HTTP/1.1\\r\\nHost: 61.62.173.44:110\\r\\nUser-Agent: Mozilla/5.0 (Macintosh; Intel Mac OS X 10.11; rv:47.0) Gecko/20100101 Firefox/47.0\\r\\nAccept: */*\\r\\nConnection: keep-alive\\r\\n\\r\\n', 'GET / HTTP/1.0\\r\\nHost: 220.229.172.12\\r\\n\\r\\n', 'GET / HTTP/1.0\\r\\nHost: 61.67.24.30:110\\r\\nAccept: */*\\r\\n\\r\\n', 'GET / HTTP/1.1\\r\\nHost: 175.96.15.13:110\\r\\nUser-Agent: Mozilla/5.0 (Macintosh; Intel Mac OS X 10.11; rv:47.0) Gecko/20100101 Firefox/47.0\\r\\nAccept: */*\\r\\nConnection: keep-alive\\r\\n\\r\\n', 'GET / HTTP/1.0\\r\\nHost: 61.62.173.2:110\\r\\nAccept: */*\\r\\n\\r\\n', 'GET / HTTP/1.0\\r\\nHost: 222.156.247.10:110\\r\\nAccept: */*\\r\\n\\r\\n', 'GET / HTTP/1.1\\r\\nHost: 61.62.173.59:110\\r\\nUser-Agent: Mozilla/5.0 (Macintosh; Intel Mac OS X 10.11; rv:47.0) Gecko/20100101 Firefox/47.0\\r\\nAccept: */*\\r\\nConnection: keep-alive\\r\\n\\r\\n', 'GET / HTTP/1.0\\r\\nHost: 61.67.24.47:110\\r\\nAccept: */*\\r\\n\\r\\n', 'GET / HTTP/1.1\\r\\nHost: 203.105.228.48:110\\r\\n\\r\\n', 'GET / HTTP/1.0\\r\\nHost: 210.242.148.10:110\\r\\nAccept: */*\\r\\n\\r\\n', 'GET / HTTP/1.0\\r\\nHost: 61.67.24.4:110\\r\\nAccept: */*\\r\\n\\r\\n', 'GET / HTTP/1.0\\r\\nHost: 210.241.214.31:110\\r\\nAccept: */*\\r\\n\\r\\n', 'GET / HTTP/1.0\\r\\nHost: 210.242.148.7:110\\r\\nAccept: */*\\r\\n\\r\\n', 'GET / HTTP/1.0\\r\\nHost: 222.156.247.30:110\\r\\nAccept: */*\\r\\n\\r\\n', 'GET / HTTP/1.0\\r\\nHost: 103.225.3.41\\r\\n\\r\\n', 'GET / HTTP/1.0\\r\\nHost: 43.255.181.8:110\\r\\nAccept: */*\\r\\n\\r\\n', 'GET / HTTP/1.1\\r\\nHost: www\\r\\nAccept: */*\\r\\nUser-Agent: Mozilla/5.0 (Windows NT 6.1; WOW64; rv:12.0) Gecko/20100101 Firefox/12.0\\r\\n\\r\\n', 'GET / HTTP/1.0\\r\\nHost: 210.241.214.29:110\\r\\nAccept: */*\\r\\n\\r\\n', 'GET / HTTP/1.1\\r\\nHost: www\\r\\nAccept: */*\\r\\nUser-Agent: Mozilla/5.0 (Windows NT 6.1) AppleWebKit/537.36 (KHTML, like Gecko) Chrome/36.0.1985.125 Safari/537.36\\r\\n\\r\\n', 'GET / HTTP/1.0\\r\\nHost: 210.241.214.41\\r\\n\\r\\n', 'GET / HTTP/1.0\\r\\nHost: 61.67.24.13:110\\r\\nAccept: */*\\r\\n\\r\\n', 'GET / HTTP/1.0\\r\\n\\r\\n', 'GET / HTTP/1.1\\r\\nHost: 175.96.14.19:110\\r\\nUser-Agent: Mozilla/5.0 (Macintosh; Intel Mac OS X 10.11; rv:47.0) Gecko/20100101 Firefox/47.0\\r\\nAccept: */*\\r\\nConnection: keep-alive\\r\\n\\r\\n', 'GET / HTTP/1.0\\r\\nHost: 210.241.214.59:110\\r\\nAccept: */*\\r\\n\\r\\n', 'GET / HTTP/1.0\\r\\nHost: 43.255.90.14:110\\r\\nAccept: */*\\r\\n\\r\\n', 'GET / HTTP/1.0\\r\\nHost: 61.67.24.17:110\\r\\nAccept: */*\\r\\n\\r\\n', 'GET / HTTP/1.0\\r\\nHost: 203.105.227.19\\r\\n\\r\\n', 'GET / HTTP/1.0\\r\\nHost: 210.242.147.51:110\\r\\nAccept: */*\\r\\n\\r\\n', 'GET / HTTP/1.1\\r\\nHost: 210.203.16.5:110\\r\\nUser-Agent: Mozilla/5.0 (Macintosh; Intel Mac OS X 10.11; rv:47.0) Gecko/20100101 Firefox/47.0\\r\\nAccept: */*\\r\\nConnection: keep-alive\\r\\n\\r\\n', 'GET / HTTP/1.0\\r\\nHost: 61.67.24.57:110\\r\\nAccept: */*\\r\\n\\r\\n', 'GET / HTTP/1.0\\r\\nHost: 61.67.24.6:110\\r\\nAccept: */*\\r\\n\\r\\n', 'GET / HTTP/1.0\\r\\nHost: 61.67.24.24:110\\r\\nAccept: */*\\r\\n\\r\\n', 'GET / HTTP/1.0\\r\\nHost: 61.62.173.8:110\\r\\nAccept: */*\\r\\n\\r\\n', 'GET / HTTP/1.0\\r\\nHost: 203.105.227.18\\r\\n\\r\\n', 'GET / HTTP/1.0\\r\\nHost: 210.241.214.27:110\\r\\nAccept: */*\\r\\n\\r\\n', 'GET / HTTP/1.0\\r\\nHost: 43.255.181.4:110\\r\\nAccept: */*\\r\\n\\r\\n', 'POST / HTTP/1.1\\r\\nHost: 127.0.0.1:8545\\r\\nContent-Length: 81\\r\\nContent-Type: application/json\\r\\n\\r\\n{\"jsonrpc\":\"2.0\",\"method\":\"eth_getBlockByNumber\",\"params\":[\"0x1b4\", true],\"id\":1}', 'GET / HTTP/1.0\\r\\nHost: 43.255.181.7:110\\r\\nAccept: */*\\r\\n\\r\\n', 'GET / HTTP/1.0\\r\\nHost: 61.67.24.25:110\\r\\nAccept: */*\\r\\n\\r\\n', 'GET / HTTP/1.0\\r\\nHost: 203.105.229.40\\r\\n\\r\\n', 'GET / HTTP/1.1\\r\\nHost: 43.255.183.35:110\\r\\n\\r\\n', 'GET / HTTP/1.0\\r\\nHost: 61.67.24.55:110\\r\\nAccept: */*\\r\\n\\r\\n', 'GET / HTTP/1.0\\r\\nHost: 210.242.148.6:110\\r\\nAccept: */*\\r\\n\\r\\n', 'GET / HTTP/1.1\\r\\nHost: 175.96.15.48:110\\r\\nUser-Agent: Mozilla/5.0 (Macintosh; Intel Mac OS X 10.11; rv:47.0) Gecko/20100101 Firefox/47.0\\r\\nAccept: */*\\r\\nConnection: keep-alive\\r\\n\\r\\n', 'GET / HTTP/1.0\\r\\nHost: 210.241.214.23:110\\r\\nAccept: */*\\r\\n\\r\\n', 'OPTIONS / HTTP/1.0\\r\\n\\r\\n', 'GET / HTTP/1.1\\r\\nHost: 61.62.173.55:110\\r\\nUser-Agent: Mozilla/5.0 (Macintosh; Intel Mac OS X 10.11; rv:47.0) Gecko/20100101 Firefox/47.0\\r\\nAccept: */*\\r\\nConnection: keep-alive\\r\\n\\r\\n', 'GET / HTTP/1.0\\r\\nHost: 61.67.24.50:110\\r\\nAccept: */*\\r\\n\\r\\n', 'GET / HTTP/1.0\\r\\nHost: 61.67.24.53:110\\r\\nAccept: */*\\r\\n\\r\\n', 'GET / HTTP/1.0\\r\\nHost: 61.67.24.36:110\\r\\nAccept: */*\\r\\n\\r\\n', 'GET / HTTP/1.1\\r\\nHost: 175.96.15.39:110\\r\\nUser-Agent: Mozilla/5.0 (Macintosh; Intel Mac OS X 10.11; rv:47.0) Gecko/20100101 Firefox/47.0\\r\\nAccept: */*\\r\\nConnection: keep-alive\\r\\n\\r\\n', 'GET / HTTP/1.0\\r\\nHost: 61.67.24.48:110\\r\\nAccept: */*\\r\\n\\r\\n', 'POST / HTTP/1.1\\r\\nHost: 43.255.181.5\\r\\nUser-Agent: AuthServiceProxy/0.1\\r\\nContent-Length: 62\\r\\nContent-Type: application/json\\r\\n\\r\\n{\"params\": [], \"version\": \"1.1\", \"id\": 1, \"method\": \"getinfo\"}', 'GET / HTTP/1.0\\r\\nHost: 210.241.214.44:110\\r\\nAccept: */*\\r\\n\\r\\n', 'GET / HTTP/1.0\\r\\nHost: 61.67.24.22:110\\r\\nAccept: */*\\r\\n\\r\\n', 'GET / HTTP/1.0\\r\\nHost: 210.241.214.22:110\\r\\nAccept: */*\\r\\n\\r\\n', 'GET / HTTP/1.0\\r\\nHost: 210.203.16.48\\r\\n\\r\\n', 'POST / HTTP/1.1\\r\\nHost: 175.96.49.35\\r\\nUser-Agent: AuthServiceProxy/0.1\\r\\nContent-Length: 62\\r\\nContent-Type: application/json\\r\\n\\r\\n{\"params\": [], \"version\": \"1.1\", \"id\": 1, \"method\": \"getinfo\"}', 'GET / HTTP/1.0\\r\\nHost: 210.241.214.45:110\\r\\nAccept: */*\\r\\n\\r\\n', 'GET / HTTP/1.0\\r\\nHost: 210.241.214.60:110\\r\\nAccept: */*\\r\\n\\r\\n', 'GET / HTTP/1.0\\r\\nHost: 222.156.247.15:110\\r\\nAccept: */*\\r\\n\\r\\n', 'GET / HTTP/1.0\\r\\nHost: 210.241.214.30:110\\r\\nAccept: */*\\r\\n\\r\\n', 'GET / HTTP/1.0\\r\\nHost: 210.241.214.15:110\\r\\nAccept: */*\\r\\n\\r\\n', 'GET / HTTP/1.0\\r\\nHost: 61.67.24.1:110\\r\\nAccept: */*\\r\\n\\r\\n', 'GET / HTTP/1.0\\r\\nHost: 61.67.24.10:110\\r\\nAccept: */*\\r\\n\\r\\n', 'GET / HTTP/1.0\\r\\nHost: 43.255.181.16:110\\r\\nAccept: */*\\r\\n\\r\\n', 'GET / HTTP/1.0\\r\\nHost: 43.255.181.46\\r\\n\\r\\n', 'GET / HTTP/1.0\\r\\nHost: 210.241.214.3:110\\r\\nAccept: */*\\r\\n\\r\\n', 'GET / HTTP/1.0\\r\\nHost: 222.156.247.45:110\\r\\nAccept: */*\\r\\n\\r\\n', 'GET / HTTP/1.0\\r\\nHost: 210.241.214.63:110\\r\\nAccept: */*\\r\\n\\r\\n', 'GET / HTTP/1.0\\r\\nHost: 210.242.148.8:110\\r\\nAccept: */*\\r\\n\\r\\n', 'GET / HTTP/1.0\\r\\nHost: 203.105.230.40\\r\\n\\r\\n', 'GET / HTTP/1.0\\r\\nHost: 210.241.214.50:110\\r\\nAccept: */*\\r\\n\\r\\n', 'GET / HTTP/1.0\\r\\nHost: 43.255.90.18:110\\r\\nAccept: */*\\r\\n\\r\\n', 'GET / HTTP/1.0\\r\\nHost: 210.202.233.47\\r\\n\\r\\n', 'GET / HTTP/1.0\\r\\nHost: 210.242.148.12:110\\r\\nAccept: */*\\r\\n\\r\\n']\n",
      "negative test\n",
      "correct: 100, total: 100\n",
      "errorList: []\n"
     ]
    }
   ],
   "source": [
    "\n",
    "#隨機選擇除了給定的SID以外的100個text\n",
    "def select_random_texts(sid_to_unique_texts, given_sid, num_texts=100):\n",
    "    # Filter out the given SID\n",
    "    filtered_texts = [texts for sid, texts in sid_to_unique_texts.items() if sid != given_sid]\n",
    "    \n",
    "    # Flatten the list of lists to a single list of texts\n",
    "    all_texts = [text for sublist in filtered_texts for text in sublist]\n",
    "    \n",
    "    # Randomly select 100 texts, or all texts if there are fewer than 100\n",
    "    selected_texts = random.sample(all_texts, min(len(all_texts), num_texts))\n",
    "    \n",
    "    return selected_texts\n",
    "\n",
    "def get_pcre_by_sid(sid):\n",
    "    with open('sid_table(packet).csv', newline='') as csvfile:\n",
    "        reader = csv.DictReader(csvfile)\n",
    "        for row in reader:\n",
    "            if row['SID'] == str(sid):\n",
    "                # Remove leading and trailing slashes from the pcre value\n",
    "                return row['pcre'].strip('/')\n",
    "    return None\n",
    "\n",
    "def match_patterns(targetText, GeneratedPatternList,isPositive=True):\n",
    "    non_matching_patterns = []  # Step 1: Initialize list for non-matching patterns\n",
    "    # Check each pattern and add non-matching ones to the list\n",
    "    for i, pattern in enumerate(GeneratedPatternList):\n",
    "        if not re.search(pattern, targetText):\n",
    "            non_matching_patterns.append(f\"Pattern {i+1}: {pattern}\")\n",
    "    ourResult = True if (9-len(non_matching_patterns)) >= 7 else False\n",
    "    with open('evaluation_result.txt', 'w') as file:\n",
    "        for pattern in non_matching_patterns:\n",
    "            file.write(pattern)\n",
    "    #ansMatch = bool(re.search(ansPattern, targetText))\n",
    "    return ourResult == isPositive\n",
    "def positive_evaluation(threeAnsPattern,sid):\n",
    "    correct = 0\n",
    "    total = 0\n",
    "    errorList = []\n",
    "    ansPattern = get_pcre_by_sid(str(sid))\n",
    "    print(f\"ansPattern: {ansPattern}\")\n",
    "    sid_to_unique_texts = map_sid_to_unique_texts(pop_df)\n",
    "    texts = sid_to_unique_texts[sid]\n",
    "    for text in texts:\n",
    "        total = total + 1\n",
    "        correct = correct + match_patterns(text, threeAnsPattern, True)\n",
    "        if not match_patterns(text, threeAnsPattern, True):\n",
    "            errorList.append(text)\n",
    "\n",
    "    print(\"positive test\")\n",
    "    print(f\"correct: {correct}, total: {total}\")\n",
    "    print(f\"errorList: {errorList}\")\n",
    "    return correct, total\n",
    "\n",
    "def negative_evaluation(GeneratedPatternList,sid):\n",
    "    correct = 0\n",
    "    total = 0\n",
    "    errorList = []\n",
    "    ansPattern = get_pcre_by_sid(str(sid))\n",
    "    texts = select_random_texts(sid_to_unique_texts, sid)\n",
    "    for text in texts:\n",
    "        total = total + 1\n",
    "        correct = correct + match_patterns(text, GeneratedPatternList, False)\n",
    "        if  not match_patterns(text, GeneratedPatternList, False):\n",
    "            errorList.append(text)\n",
    "    print(\"negative test\")\n",
    "    print(f\"correct: {correct}, total: {total}\")\n",
    "    for error_text in errorList:\n",
    "        print(error_text)\n",
    "    print(f\"errorList: {errorList}\")\n",
    "    \n",
    "regex1 = \"GET .+ HTTP/1\\.[01]\\r\\nHost: [^\\r\\n]+(\\r\\n[^\\r\\n]+)*\\r\\n\\r\\n\"\n",
    "regex2 = \"^GET\\s.+\\sHTTP\\/1\\.[01]\\r\\nHost:\\s[^\\r\\n]+(\\r\\nUser-Agent:\\s[^\\r\\n]+)?(\\r\\nAccept:[^\\r\\n]+)?(\\r\\nAccept-Encoding:[^\\r\\n]+)?\\r\\n\\r\\n$\"\n",
    "regex3 = \"^GET\\s.+\\sHTTP\\/1\\.[01]\\r\\nHost:\\s[^\\r\\n]+(\\r\\n[^\\r\\n]+)*\\r\\n\\r\\n$\"\n",
    "regex4 = \"^GET /.* HTTP/1\\.[01]\\r\\nHost: [\\d\\w\\.\\-]+(:\\d+)?\\r\\nUser-Agent: .+\\r\\nAccept: \\*/\\*\\r\\nAccept-Encoding: gzip\\r\\n\\r\\n$\"\n",
    "regex5 = \"^GET /.* HTTP/1\\.[01]\\r\\nHost: [\\w\\d\\.\\-]+(:\\d+)?\\r\\n(User-Agent: .+\\r\\n)?Accept: \\*/\\*\\r\\n(Accept-Encoding: gzip\\r\\n)?\\r\\n$\"\n",
    "regex6 = \"^GET /.* HTTP/1\\.[01]\\r\\nHost: [\\d\\w\\.\\-]+(:\\d+)?\\r\\nUser-Agent: Mozilla/5\\.0.*\\r\\nAccept: \\*/\\*\\r\\nAccept-Encoding: gzip\\r\\n\\r\\n$\"\n",
    "regex7 = \"^GET\\s\\S*\\sHTTP/1\\.[01]\\r\\n(Host: .+\\r\\n)?(User-Agent: .+\\r\\n)?(Accept: .+\\r\\n)?(Accept-Encoding: .+\\r\\n)?(\\r\\n)+$\"\n",
    "regex8 = \"^GET\\s\\S*\\sHTTP/1\\.[01]\\r\\n(Host: .+\\r\\n)(User-Agent: .+\\r\\n)?(Accept: .+\\r\\n)?(Accept-Encoding: .+\\r\\n)?\\r\\n$\"\n",
    "regex9 = \"^GET\\s\\S*\\sHTTP/1\\.[01]\\r\\n(Host: .+\\r\\n)?(User-Agent: .+\\r\\n)?(Accept: .*\\r\\n)?(Accept-Encoding: .*\\r\\n)?\\r\\n\\r\\n$\"\n",
    "GeneratedPatternList = [\n",
    "    regex1, regex2, regex3, regex4, regex5, regex6, regex7, regex8, regex9\n",
    "]\n",
    "\n",
    "sid = '1783777'\n",
    "positive_evaluation(GeneratedPatternList, sid)\n",
    "negative_evaluation(GeneratedPatternList, sid)"
   ]
  },
  {
   "cell_type": "markdown",
   "metadata": {},
   "source": [
    "### Helper Function"
   ]
  },
  {
   "cell_type": "code",
   "execution_count": null,
   "metadata": {},
   "outputs": [],
   "source": [
    "def list_csv_columns():\n",
    "    with open('sid_table(packet).csv', newline='') as csvfile:\n",
    "        reader = csv.DictReader(csvfile)\n",
    "        # Print all column names\n",
    "        print(reader.fieldnames)"
   ]
  },
  {
   "cell_type": "code",
   "execution_count": null,
   "metadata": {},
   "outputs": [],
   "source": [
    "#print filtered_sids and corresponding text\n",
    "for sid in filtered_sids:\n",
    "    print(f\"sid: {sid}, text: {sid_to_unique_texts[sid]}\")"
   ]
  },
  {
   "cell_type": "code",
   "execution_count": 76,
   "metadata": {},
   "outputs": [],
   "source": [
    "\n",
    "protocols = [\n",
    "    {'name': 'pop_df', 'data': pop_df},\n",
    "    {'name': 'imap_df', 'data': imap_df},\n",
    "    {'name': 'smtp_df', 'data': smtp_df},\n",
    "    {'name': 'sip_df', 'data': sip_df}\n",
    "]\n",
    "\n",
    "with open('target.txt', 'w') as file:\n",
    "    pass\n",
    "\n",
    "with open('target.txt', 'a') as file:\n",
    "    for protocol in protocols:\n",
    "        protocol_name = protocol['name']\n",
    "        protocol_data = protocol['data']\n",
    "        \n",
    "        sid_to_unique_texts = map_sid_to_unique_texts(protocol_data)\n",
    "        filtered_sids = filter_sids_by_text_length(sid_to_unique_texts)\n",
    "        \n",
    "        file.write(f\"Protocol: {protocol_name}\\n\")\n",
    "        \n",
    "        for sid in filtered_sids:\n",
    "            texts = list(sid_to_unique_texts[sid])\n",
    "            random.shuffle(texts)\n",
    "            selected_texts = texts[:50]\n",
    "            file.write(f\"sid: {sid}, text: {selected_texts}\\n \\n\")\n",
    "            file.write(\"Please find a regular expression to match all packet payloads.\\n\" + \n",
    "                       \"You need to find the similarities in the sentences and generalize the parts where they differ. \\n\" + \n",
    "                        \"The regular expression is in PCRE fromat, please be aware to evaluate the validity of the expression you generated under PCRE regulations. \\n\" + \n",
    "                        \"There will be examples to help you find the patterns. \\n\"  +\n",
    "                        \"with the given example payloads: \\n\" +\n",
    "                        \"[‘DELE 3\\\\r\\\\n’, ‘DELE 128\\\\r\\\\n’, ‘DELE 74\\\\r\\\\n’, ‘DELE 22\\\\r\\\\n’, ‘DELE 70\\\\r\\\\n’] \\n\" +\n",
    "                        \"These examples show the attacker is trying to delete someone’s email by POP protocol. \\n\" +\n",
    "                        \"The index of the desired mail is indicated under the DELE command. \\n\" +\n",
    "                        \"Thus the best regular expression that matches them will be ‘^(DELE)( )(.*)(\\\\r\\\\n)$’ \\n\" + \"\\n\" +\n",
    "                        \"With the given example payloads: \\n\" +\n",
    "                        \"[‘EHLO BtuCBHdSb51.com\\\\r\\\\n’, ‘EHLO 203.187.87.27\\\\r\\\\n’, ‘EHLO slae02Fo9Ep.com\\\\r\\\\n’, ‘EHLO 210.64.37.51\\\\r\\\\n’, ‘EHLO LLb0RwqdbkikFWo.com\\\\r\\\\n’] \\n\" + \n",
    "                        \"These examples show the attacker is trying to make sure the SMTP server is up and running. \" + \n",
    "                        \"The command EHLO works in both lower case and uppercase, after that follows the SMTP server address. \\n\" +\n",
    "                        \"Thus the best regular expression to match them will be ‘^([E|e][H|h][L|l][O|o])(.*)(\\\\r\\\\\\n)$’ \\n\" + \"\\n\" +\n",
    "                        \"Next, with the given payloads: \\n\")\n",
    "            file.write(f\"{selected_texts}\\n\")         \n",
    "            file.write(\"Please give 3 possible and different regular expressions to match all of the elements. \\n\" +\n",
    "                        \"You can give only 1 expression if the 3 expressions you find are too similar. \\n\" + \n",
    "                        \"Let’s work this out in a step-by-step way to make sure we have the right answer. \\n\" + \n",
    "                        \"To make the expression not too general, make sure the expressions don’t match these negative examples: [‘CAPA\\\\r\\\\n’, ‘CAPA\\\\r\\\\n’, ‘\\\\x15\\\\x03\\\\x01’, ‘GET / HTTP/1.0\\\\r\\\\n\\\\r\\\\n’, ‘r\\\\n\\\\r\\\\n’] \\n\")\n",
    "        file.write(\"\\n\")"
   ]
  },
  {
   "cell_type": "code",
   "execution_count": 89,
   "metadata": {},
   "outputs": [],
   "source": [
    "import random \n",
    "\n",
    "protocols = [\n",
    "    {'name': 'pop_df', 'data': pop_df},\n",
    "    {'name': 'imap_df', 'data': imap_df},\n",
    "    {'name': 'smtp_df', 'data': smtp_df},\n",
    "    {'name': 'sip_df', 'data': sip_df}\n",
    "]\n",
    "\n",
    "with open('target.txt', 'w') as file:\n",
    "    pass\n",
    "\n",
    "with open('target.txt', 'a') as file:\n",
    "    for protocol in protocols:\n",
    "        protocol_name = protocol['name']\n",
    "        protocol_data = protocol['data']\n",
    "        \n",
    "        sid_to_unique_texts = map_sid_to_unique_texts(protocol_data)\n",
    "        filtered_sids = filter_sids_by_text_length(sid_to_unique_texts)\n",
    "        \n",
    "        file.write(f\"Protocol: {protocol_name}\\n\")\n",
    "        \n",
    "        for sid in filtered_sids:\n",
    "            for i in range (3):\n",
    "                texts = list(sid_to_unique_texts[sid])\n",
    "                random.shuffle(texts)\n",
    "                selected_texts = texts[:5]\n",
    "                file.write(f\"sid: {sid}, text: {selected_texts}\\n\")\n",
    "        file.write(\"\\n\")"
   ]
  },
  {
   "cell_type": "code",
   "execution_count": null,
   "metadata": {},
   "outputs": [],
   "source": [
    "with open('all_texts.txt', 'a') as file:\n",
    "    for protocol in protocols:\n",
    "        protocol_name = protocol['name']\n",
    "        protocol_data = protocol['data']\n",
    "        \n",
    "        sid_to_unique_texts = map_sid_to_unique_texts(protocol_data)\n",
    "        filtered_sids = filter_sids_by_text_length(sid_to_unique_texts)\n",
    "        \n",
    "        file.write(f\"Protocol: {protocol_name}\\n\")\n",
    "        \n",
    "        for sid in filtered_sids:\n",
    "            file.write(f\"sid: {sid}, text: {sid_to_unique_texts[sid]}\\n\")\n",
    "\n",
    "        file.write(\"\\n\")"
   ]
  }
 ],
 "metadata": {
  "kernelspec": {
   "display_name": "Python 3",
   "language": "python",
   "name": "python3"
  },
  "language_info": {
   "codemirror_mode": {
    "name": "ipython",
    "version": 3
   },
   "file_extension": ".py",
   "mimetype": "text/x-python",
   "name": "python",
   "nbconvert_exporter": "python",
   "pygments_lexer": "ipython3",
   "version": "3.10.14"
  },
  "vscode": {
   "interpreter": {
    "hash": "aee8b7b246df8f9039afb4144a1f6fd8d2ca17a180786b69acc140d282b71a49"
   }
  }
 },
 "nbformat": 4,
 "nbformat_minor": 2
}
